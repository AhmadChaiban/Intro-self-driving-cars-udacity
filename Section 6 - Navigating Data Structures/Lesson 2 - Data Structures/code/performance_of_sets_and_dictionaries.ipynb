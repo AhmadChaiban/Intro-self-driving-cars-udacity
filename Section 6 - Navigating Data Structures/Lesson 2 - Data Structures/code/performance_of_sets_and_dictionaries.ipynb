{
 "cells": [
  {
   "cell_type": "markdown",
   "metadata": {
    "collapsed": true
   },
   "source": [
    "# Performance of Sets and Dictionaries"
   ]
  },
  {
   "cell_type": "code",
   "execution_count": 1,
   "metadata": {},
   "outputs": [],
   "source": [
    "# Run this cell first!\n",
    "\n",
    "import time\n",
    "import random\n",
    "from matplotlib import pyplot as plt"
   ]
  },
  {
   "cell_type": "markdown",
   "metadata": {},
   "source": [
    "### Feel the *slowness*\n",
    "\n",
    "In the previous notebook you *saw* the slowness of lists. As a list gets bigger it takes longer and longer to perform membership tests.\n",
    "\n",
    "But you can *feel* the slowness too. Compare how long it takes to run the next two cells."
   ]
  },
  {
   "cell_type": "code",
   "execution_count": 2,
   "metadata": {},
   "outputs": [
    {
     "name": "stdout",
     "output_type": "stream",
     "text": [
      "Execution complete! That took 1.3639999999999208 milliseconds\n"
     ]
    }
   ],
   "source": [
    "# SMALL list membership tests\n",
    "\n",
    "small_list = list(range(10)) # ten element list of integers\n",
    "nonexistent_element = -1\n",
    "num_trials = 5000\n",
    "\n",
    "start = time.clock()\n",
    "\n",
    "# do lots of membership tests\n",
    "for _ in range(num_trials):\n",
    "    nonexistent_element in small_list\n",
    "\n",
    "end = time.clock()\n",
    "millis = (end-start) * 1000\n",
    "print(\"Execution complete! That took\", millis, \"milliseconds\")"
   ]
  },
  {
   "cell_type": "code",
   "execution_count": 3,
   "metadata": {},
   "outputs": [
    {
     "name": "stdout",
     "output_type": "stream",
     "text": [
      "Execution complete! That took 7368.888999999999 milliseconds\n"
     ]
    }
   ],
   "source": [
    "# BIG list membership tests\n",
    "\n",
    "big_list = list(range(100000)) # 100K element list of integers\n",
    "nonexistent_element = -1\n",
    "num_trials = 5000\n",
    "\n",
    "start = time.clock()\n",
    "\n",
    "# do lots of membership tests\n",
    "for _ in range(num_trials):\n",
    "    nonexistent_element in big_list\n",
    "\n",
    "end = time.clock()\n",
    "millis = (end-start) * 1000\n",
    "print(\"Execution complete! That took\", millis, \"milliseconds\")"
   ]
  },
  {
   "cell_type": "markdown",
   "metadata": {},
   "source": [
    "That was **boring** wasn't it?\n",
    "\n",
    "Waiting for code to execute (even if it only takes a few seconds) has been proven to be the most boring activity in the world. And when code is slow on a self driving car it can be downright dangerous.\n",
    "\n",
    "Luckily, we can often speed things up **a lot** by choosing the right data structure."
   ]
  },
  {
   "cell_type": "markdown",
   "metadata": {},
   "source": [
    "### Feel the *speed*\n",
    "\n",
    "The code cells below do the EXACT same thing as the code cells above except they use `set` instead of `list` in that first line."
   ]
  },
  {
   "cell_type": "code",
   "execution_count": 4,
   "metadata": {},
   "outputs": [
    {
     "name": "stdout",
     "output_type": "stream",
     "text": [
      "Execution complete! That took 0.6060000000012167 milliseconds\n"
     ]
    }
   ],
   "source": [
    "# SMALL set membership tests\n",
    "\n",
    "small_set = set(range(10)) # ten element list of integers\n",
    "nonexistent_element = -1\n",
    "num_trials = 5000\n",
    "\n",
    "start = time.clock()\n",
    "\n",
    "# do lots of membership tests\n",
    "for _ in range(num_trials):\n",
    "    nonexistent_element in small_set\n",
    "\n",
    "end = time.clock()\n",
    "millis = (end-start) * 1000\n",
    "print(\"Execution complete! That took\", millis, \"milliseconds\")"
   ]
  },
  {
   "cell_type": "markdown",
   "metadata": {},
   "source": [
    "### Drum roll please!\n",
    "\n",
    "![drum roll](https://d17h27t6h515a5.cloudfront.net/topher/2017/November/5a04cbf1_drum-roll/drum-roll.gif)\n",
    "\n",
    "Remember how *painfully slow* the big list was? Well hold on to your seat!"
   ]
  },
  {
   "cell_type": "code",
   "execution_count": 5,
   "metadata": {},
   "outputs": [
    {
     "name": "stdout",
     "output_type": "stream",
     "text": [
      "Execution complete! That took 0.6040000000009371 milliseconds\n"
     ]
    }
   ],
   "source": [
    "# BIG set membership tests\n",
    "\n",
    "big_set = set(range(100000)) # 100K element list of integers\n",
    "nonexistent_element = -1\n",
    "num_trials = 5000\n",
    "\n",
    "start = time.clock()\n",
    "\n",
    "# do lots of membership tests\n",
    "for _ in range(num_trials):\n",
    "    nonexistent_element in big_set\n",
    "\n",
    "end = time.clock()\n",
    "millis = (end-start) * 1000\n",
    "print(\"Execution complete! That took\", millis, \"milliseconds\")"
   ]
  },
  {
   "cell_type": "markdown",
   "metadata": {},
   "source": [
    "![fast car](https://d17h27t6h515a5.cloudfront.net/topher/2017/November/5a04cd26_fast-sport-car-1466168667pxr/fast-sport-car-1466168667pxr.jpg)"
   ]
  },
  {
   "cell_type": "markdown",
   "metadata": {},
   "source": [
    "### Stepping back\n",
    "\n",
    "Sorry for all that repeated code. Sometimes I just get so excited when I'm programming that I ignore the voice that says \"get your act together! Make that a function and stop repeating yourself!\"\n",
    "\n",
    "Now I'm going to listen to that voice, clean up this code, and show you just how fast sets are."
   ]
  },
  {
   "cell_type": "code",
   "execution_count": 6,
   "metadata": {},
   "outputs": [],
   "source": [
    "def test_data_structure_speed(data_structure_type, size, N=50):\n",
    "    if data_structure_type != dict:\n",
    "        data_structure = data_structure_type(range(size))\n",
    "    else:\n",
    "        data_structure = {num: \"value\" for num in range(size)}\n",
    "    nonexistent_element = -1\n",
    "    \n",
    "    start = time.clock()\n",
    "    for _ in range(N):\n",
    "        nonexistent_element in data_structure\n",
    "    end = time.clock()\n",
    "    \n",
    "    millis = (end-start) * 1000\n",
    "    return millis    "
   ]
  },
  {
   "cell_type": "code",
   "execution_count": 7,
   "metadata": {},
   "outputs": [
    {
     "data": {
      "text/plain": [
       "0.06899999999987472"
      ]
     },
     "execution_count": 7,
     "metadata": {},
     "output_type": "execute_result"
    }
   ],
   "source": [
    "# set test\n",
    "test_data_structure_speed(set, 100000, N=1000)"
   ]
  },
  {
   "cell_type": "code",
   "execution_count": 8,
   "metadata": {},
   "outputs": [
    {
     "data": {
      "text/plain": [
       "1473.089"
      ]
     },
     "execution_count": 8,
     "metadata": {},
     "output_type": "execute_result"
    }
   ],
   "source": [
    "# list test\n",
    "test_data_structure_speed(list, 100000, N=1000)"
   ]
  },
  {
   "cell_type": "code",
   "execution_count": 9,
   "metadata": {},
   "outputs": [
    {
     "data": {
      "text/plain": [
       "0.064000000000064"
      ]
     },
     "execution_count": 9,
     "metadata": {},
     "output_type": "execute_result"
    }
   ],
   "source": [
    "# dictionary test\n",
    "test_data_structure_speed(dict, 100000, N=1000)"
   ]
  },
  {
   "cell_type": "code",
   "execution_count": 10,
   "metadata": {},
   "outputs": [
    {
     "data": {
      "image/png": "[encoded data removed]",
      "text/plain": [
       "<matplotlib.figure.Figure at 0x7f9e3415b198>"
      ]
     },
     "metadata": {
      "needs_background": "light"
     },
     "output_type": "display_data"
    }
   ],
   "source": [
    "sizes = list(range(0, 500000, 25000))\n",
    "list_speeds = [test_data_structure_speed(list, size) for size in sizes]\n",
    "set_speeds  = [test_data_structure_speed(set,  size) for size in sizes]\n",
    "dict_speeds = [test_data_structure_speed(dict, size) for size in sizes]\n",
    "\n",
    "plt.scatter(sizes, list_speeds, c='g', marker=\"o\") #green circle\n",
    "plt.scatter(sizes, set_speeds,  c='r', marker=\"D\") #red diamond\n",
    "plt.scatter(sizes, dict_speeds, c='b', marker=\"*\") #blue star\n",
    "\n",
    "plt.xlabel(\"Data Structure Size\")\n",
    "plt.ylabel(\"Total Time (ms)\")\n",
    "plt.legend([\"List\", \"Set\", \"Dictionary\"])\n",
    "plt.title(\"Comparing Membership Testing Times\")\n",
    "plt.show()"
   ]
  },
  {
   "cell_type": "markdown",
   "metadata": {},
   "source": [
    "As you can see, the performance of sets and dictionaries does not depend on the size of the set / dictionary and membership tests are consistently **fast**. Fast is good."
   ]
  }
 ],
 "metadata": {
  "kernelspec": {
   "display_name": "Python 3",
   "language": "python",
   "name": "python3"
  },
  "language_info": {
   "codemirror_mode": {
    "name": "ipython",
    "version": 3
   },
   "file_extension": ".py",
   "mimetype": "text/x-python",
   "name": "python",
   "nbconvert_exporter": "python",
   "pygments_lexer": "ipython3",
   "version": "3.6.3"
  }
 },
 "nbformat": 4,
 "nbformat_minor": 2
}
