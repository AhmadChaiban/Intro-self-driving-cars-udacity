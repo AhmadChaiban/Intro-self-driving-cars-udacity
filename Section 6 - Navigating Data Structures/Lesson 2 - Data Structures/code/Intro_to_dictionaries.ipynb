{
 "cells": [
  {
   "cell_type": "markdown",
   "metadata": {},
   "source": [
    "# Introduction to Dictionaries\n",
    "In this notebook you will learn about Python Dictionaries."
   ]
  },
  {
   "cell_type": "markdown",
   "metadata": {},
   "source": [
    "## Dictionaries associate `keys` with `values`"
   ]
  },
  {
   "cell_type": "code",
   "execution_count": 1,
   "metadata": {},
   "outputs": [],
   "source": [
    "ticket = {\n",
    "    \"date\" : \"2018-12-28\",\n",
    "    \"priority\" : \"high\",\n",
    "    \"description\" : \"\"\"Vehicle did not slow down despite\n",
    "    SLOW    \n",
    "    SCHOOL    \n",
    "    ZONE    \"\"\"\n",
    "}"
   ]
  },
  {
   "cell_type": "markdown",
   "metadata": {},
   "source": [
    "The `ticket` you see above is a Python `dictionary`. A dictionary is an **unordered** data structure.\n",
    "\n",
    "With a `list`, data is accessed by **position** (e.g. `my_list[0]`), but dictionaries are unordered. Data in a dictionary is accessed via it's **key** instead of it's position.\n",
    "\n",
    "In the `ticket` example above, there are three **keys**. You can see what they are by running the code below"
   ]
  },
  {
   "cell_type": "code",
   "execution_count": 2,
   "metadata": {},
   "outputs": [
    {
     "name": "stdout",
     "output_type": "stream",
     "text": [
      "dict_keys(['date', 'priority', 'description'])\n"
     ]
    }
   ],
   "source": [
    "print(ticket.keys())"
   ]
  },
  {
   "cell_type": "markdown",
   "metadata": {},
   "source": [
    "Each **key** in a dictionary is associated with a **value**. The code below retrieves the **value** associated with the **key** `description`."
   ]
  },
  {
   "cell_type": "code",
   "execution_count": 3,
   "metadata": {},
   "outputs": [
    {
     "name": "stdout",
     "output_type": "stream",
     "text": [
      "Vehicle did not slow down despite\n",
      "    SLOW    \n",
      "    SCHOOL    \n",
      "    ZONE    \n"
     ]
    }
   ],
   "source": [
    "print(ticket['description'])"
   ]
  },
  {
   "cell_type": "markdown",
   "metadata": {},
   "source": [
    "## Dictionaries are *mutable* (they can be modified) \n",
    "\n",
    "Dictionaries are **mutable**, which means that they can be *mutated* (modified). Being mutable means:\n",
    "\n",
    "1. Elements can be **added** to a dictionary.\n",
    "2. Elements can be **removed** from a dictionary.\n",
    "3. Elements can be **modified** in a dictionary.\n",
    "\n",
    "The code below demonstrates how to add, remove, and modify elements in a dictionary."
   ]
  },
  {
   "cell_type": "code",
   "execution_count": 4,
   "metadata": {},
   "outputs": [
    {
     "name": "stdout",
     "output_type": "stream",
     "text": [
      "{}\n"
     ]
    }
   ],
   "source": [
    "# Let's start with an empty dictionary. Eventually this will store \n",
    "# English to spanish translations...\n",
    "\n",
    "eng_to_spa = {} # this creates an empty dictionary\n",
    "print(eng_to_spa)"
   ]
  },
  {
   "cell_type": "code",
   "execution_count": 5,
   "metadata": {},
   "outputs": [
    {
     "name": "stdout",
     "output_type": "stream",
     "text": [
      "{'blue': 'Azul', 'gren': 'verde'}\n"
     ]
    }
   ],
   "source": [
    "# 1. Adding elements to a dictionary.\n",
    "#\n",
    "#    Elements can be added to a dictionary as follows:\n",
    "\n",
    "eng_to_spa['blue']  = 'Azul'\n",
    "eng_to_spa['gren']  = 'verde'\n",
    "\n",
    "print(eng_to_spa)"
   ]
  },
  {
   "cell_type": "markdown",
   "metadata": {},
   "source": [
    "Oops! I mispelled \"green\". Let's remove that element from the dictionary..."
   ]
  },
  {
   "cell_type": "code",
   "execution_count": 6,
   "metadata": {},
   "outputs": [
    {
     "name": "stdout",
     "output_type": "stream",
     "text": [
      "{'blue': 'Azul'}\n"
     ]
    }
   ],
   "source": [
    "# 2. Removing elements from a dictionary\n",
    "#    \n",
    "#    Elements can be removed from a dictionary using the del keyword\n",
    "\n",
    "del eng_to_spa['gren']\n",
    "\n",
    "print(eng_to_spa)"
   ]
  },
  {
   "cell_type": "markdown",
   "metadata": {},
   "source": [
    "It looks like \"azul\" is capitalized... let's change that!"
   ]
  },
  {
   "cell_type": "code",
   "execution_count": 7,
   "metadata": {},
   "outputs": [
    {
     "name": "stdout",
     "output_type": "stream",
     "text": [
      "{'blue': 'azul'}\n"
     ]
    }
   ],
   "source": [
    "# 3. Modifying elements in a dictionary.\n",
    "#\n",
    "#    Modifying the value associated with a key works just\n",
    "#    like adding a new value...\n",
    "\n",
    "eng_to_spa['blue'] = 'azul'\n",
    "\n",
    "print(eng_to_spa)"
   ]
  },
  {
   "cell_type": "markdown",
   "metadata": {},
   "source": [
    "### TODO - Complete `eng_to_spa` \n",
    "\n",
    "In the code cell below, add elements for a few\n",
    "additional colors so that `eng_to_spa` reflects the following:\n",
    "\n",
    "| English   | Spanish      |\n",
    "| --------- |:-------------:|\n",
    "| blue      | azul |\n",
    "| green     | verde      |\n",
    "| pink      | rosa     |\n",
    "| orange    | naranja |\n",
    "| gray      | gris | \n",
    "| brown     | marron | "
   ]
  },
  {
   "cell_type": "code",
   "execution_count": 10,
   "metadata": {},
   "outputs": [
    {
     "name": "stdout",
     "output_type": "stream",
     "text": [
      "Your english to spanish dictionary is looking good!\n",
      "{'blue': 'azul', 'green': 'verde', 'gray': 'gris', 'orange': 'naranja', 'pink': 'rosa'}\n"
     ]
    }
   ],
   "source": [
    "eng_to_spa['blue'] = 'azul'\n",
    "eng_to_spa['green'] = 'verde'\n",
    "eng_to_spa['gray'] = 'gris'\n",
    "eng_to_spa['orange'] = 'naranja'\n",
    "eng_to_spa['pink'] = 'rosa'\n",
    "\n",
    "\n",
    "\n",
    "# Testing code below\n",
    "assert(eng_to_spa['blue'] == 'azul')\n",
    "assert(eng_to_spa['gray'] == 'gris')\n",
    "assert(eng_to_spa['orange'] == 'naranja')\n",
    "assert(eng_to_spa['pink'] == 'rosa')\n",
    "print(\"Your english to spanish dictionary is looking good!\")\n",
    "\n",
    "print(eng_to_spa)"
   ]
  },
  {
   "cell_type": "markdown",
   "metadata": {},
   "source": [
    "## Dictionaries are *unordered*\n",
    "\n",
    "What does it mean for a dictionary to be **unordered**? Consider the following two tickets. "
   ]
  },
  {
   "cell_type": "code",
   "execution_count": 11,
   "metadata": {},
   "outputs": [
    {
     "name": "stdout",
     "output_type": "stream",
     "text": [
      "Does dictionary_ticket_1 == dictionary_ticket_2?\n",
      "True\n"
     ]
    }
   ],
   "source": [
    "dictionary_ticket_1 = {\n",
    "    \"date\"       : \"2018-12-31\",\n",
    "    \"priority\"   : \"high\",\n",
    "    \"description\": \"Vehicle made unexpected stop.\"\n",
    "}\n",
    "\n",
    "dictionary_ticket_2 = {\n",
    "    \"priority\"   : \"high\",\n",
    "    \"description\": \"Vehicle made unexpected stop.\",\n",
    "    \"date\"       : \"2018-12-31\"\n",
    "}\n",
    "\n",
    "# these dictionaries contain the same information, but the\n",
    "# ordering looks different. Does Python consider them identical?\n",
    "\n",
    "print(\"Does dictionary_ticket_1 == dictionary_ticket_2?\")\n",
    "print(dictionary_ticket_1 == dictionary_ticket_2)"
   ]
  },
  {
   "cell_type": "markdown",
   "metadata": {},
   "source": [
    "### Looping through a dictionary\n",
    "Despite not having a well-defined ordering of its elements, you can still loop through the **keys** of a dictionary..."
   ]
  },
  {
   "cell_type": "code",
   "execution_count": 12,
   "metadata": {},
   "outputs": [
    {
     "name": "stdout",
     "output_type": "stream",
     "text": [
      "date\n",
      "priority\n",
      "description\n"
     ]
    }
   ],
   "source": [
    "# demonstration of dictionary looping \n",
    "# demo 1 - keys only\n",
    "\n",
    "for key in dictionary_ticket_1:\n",
    "    print(key)"
   ]
  },
  {
   "cell_type": "code",
   "execution_count": 13,
   "metadata": {},
   "outputs": [
    {
     "name": "stdout",
     "output_type": "stream",
     "text": [
      "date : 2018-12-31\n",
      "priority : high\n",
      "description : Vehicle made unexpected stop.\n"
     ]
    }
   ],
   "source": [
    "# demonstration of dictionary looping \n",
    "# demo 2 - keys and values\n",
    "\n",
    "for key in dictionary_ticket_1:\n",
    "    value = dictionary_ticket_1[key]\n",
    "    print(key, ':', value)"
   ]
  },
  {
   "cell_type": "markdown",
   "metadata": {
    "collapsed": true
   },
   "source": [
    "## TODO - Exercise: \"Reverse\" a dictionary\n",
    "The code below re-defines the `eng_to_spa` dictionary. Your job is to write a function called `reverse_dictionary` which takes, for example, an english-to-spanish dictionary and returns a spanish-to-english dictionary."
   ]
  },
  {
   "cell_type": "code",
   "execution_count": 51,
   "metadata": {},
   "outputs": [
    {
     "name": "stdout",
     "output_type": "stream",
     "text": [
      "{'rojo': 'red', 'azul': 'blue', 'verde': 'green', 'negro': 'black', 'blanco': 'white', 'amarillo': 'yellow', 'naranja': 'orange', 'rosa': 'pink', 'morado': 'purple', 'gris': 'gray'}\n",
      "\n",
      "\n",
      "Nice work! Your reverse_dictionary function is correct.\n"
     ]
    }
   ],
   "source": [
    "def reverse_dictionary(dictionary):\n",
    "    new_d = {}\n",
    "    key_list = list(dictionary.keys())\n",
    "    for i in range(len(key_list)):\n",
    "        new_d[dictionary[key_list[i]]] = key_list[i]\n",
    "    return new_d\n",
    "\n",
    "eng_to_spa = {\n",
    "    \"red\" :    \"rojo\",\n",
    "    \"blue\"   : \"azul\",\n",
    "    \"green\"  : \"verde\",\n",
    "    \"black\"  : \"negro\",\n",
    "    \"white\"  : \"blanco\",\n",
    "    \"yellow\" : \"amarillo\",\n",
    "    \"orange\" : \"naranja\",\n",
    "    \"pink\"   : \"rosa\",\n",
    "    \"purple\" : \"morado\",\n",
    "    \"gray\"   : \"gris\"\n",
    "}\n",
    "\n",
    "spa_to_eng = reverse_dictionary(eng_to_spa)\n",
    "\n",
    "assert(len(spa_to_eng) == len(eng_to_spa))\n",
    "assert(spa_to_eng['rojo'] == 'red')\n",
    "assert(spa_to_eng['azul'] == 'blue')\n",
    "assert(spa_to_eng['verde'] == 'green')\n",
    "\n",
    "print(spa_to_eng)\n",
    "print('\\n')\n",
    "print(\"Nice work! Your reverse_dictionary function is correct.\")"
   ]
  },
  {
   "cell_type": "markdown",
   "metadata": {},
   "source": [
    "## Spanish to French\n",
    "\n",
    "In this exercise you will take two dictionaries (one spanish-to-english and one french-to-english) and combine them to make a single spanish-to-french dictionary.\n",
    "\n",
    "First, let's take a look at the two existing dictionaries."
   ]
  },
  {
   "cell_type": "code",
   "execution_count": 52,
   "metadata": {},
   "outputs": [
    {
     "name": "stdout",
     "output_type": "stream",
     "text": [
      "there are     10 colors in eng_to_spa\n",
      "but there are 11 colors in french_to_eng\n"
     ]
    }
   ],
   "source": [
    "eng_to_spa = {\n",
    "    \"red\" :    \"rojo\",\n",
    "    \"blue\"   : \"azul\",\n",
    "    \"green\"  : \"verde\",\n",
    "    \"black\"  : \"negro\",\n",
    "    \"white\"  : \"blanco\",\n",
    "    \"yellow\" : \"amarillo\",\n",
    "    \"orange\" : \"naranja\",\n",
    "    \"pink\"   : \"rosa\",\n",
    "    \"purple\" : \"morado\",\n",
    "    \"gray\"   : \"gris\"\n",
    "}\n",
    "\n",
    "french_to_eng = {\n",
    "    \"bleu\"  : \"blue\",\n",
    "    \"noir\"  : \"black\", \n",
    "    \"vert\"  : \"green\",\n",
    "    \"violet\": \"purple\",\n",
    "    \"gris\"  : \"gray\",\n",
    "    \"rouge\" : \"red\",\n",
    "    \"orange\": \"orange\",\n",
    "    \"rose\"  : \"pink\",\n",
    "    \"marron\": \"brown\",\n",
    "    \"jaune\" : \"yellow\",\n",
    "    \"blanc\" : \"white\",\n",
    "}\n",
    "\n",
    "print(\"there are    \", len(eng_to_spa), \"colors in eng_to_spa\")\n",
    "print(\"but there are\", len(french_to_eng), \"colors in french_to_eng\")"
   ]
  },
  {
   "cell_type": "code",
   "execution_count": 53,
   "metadata": {},
   "outputs": [
    {
     "name": "stdout",
     "output_type": "stream",
     "text": [
      "The french word for blue is bleu\n",
      "The french word for black is noir\n",
      "The french word for green is vert\n",
      "The french word for purple is violet\n",
      "The french word for gray is gris\n",
      "The french word for red is rouge\n",
      "The french word for orange is orange\n",
      "The french word for pink is rose\n",
      "The french word for brown is marron\n",
      "The french word for yellow is jaune\n",
      "The french word for white is blanc\n"
     ]
    }
   ],
   "source": [
    "# don't forget you have the \"reverse_dictionary\" function!\n",
    "\n",
    "english_to_french = reverse_dictionary(french_to_eng)\n",
    "\n",
    "for english_word in english_to_french:\n",
    "    french_word = english_to_french[english_word]\n",
    "    print(\"The french word for\", english_word, \"is\", french_word)"
   ]
  },
  {
   "cell_type": "code",
   "execution_count": 57,
   "metadata": {},
   "outputs": [
    {
     "name": "stdout",
     "output_type": "stream",
     "text": [
      "{'rojo': 'rouge', 'azul': 'bleu', 'verde': 'vert', 'negro': 'noir', 'blanco': 'blanc', 'amarillo': 'jaune', 'naranja': 'orange', 'rosa': 'rose', 'morado': 'violet', 'gris': 'gris'}\n",
      "\n",
      "\n",
      "Nice work! Your spanish to french function works correctly!\n"
     ]
    }
   ],
   "source": [
    "def spanish_to_french(english_to_spanish, english_to_french):\n",
    "    \"\"\"\n",
    "    Given an English to Spanish dictionary and an English\n",
    "    to French dictionary, returns a Spanish to French dictionary.\n",
    "    \n",
    "    If any words appear in one dictionary but NOT the other, \n",
    "    they should not be included in the resulting dictionary.\n",
    "    \"\"\"\n",
    "    s2f = {}\n",
    "    e2s_keys = list(english_to_spanish.keys())\n",
    "    e2f_keys = list(english_to_french.keys())\n",
    "    for i in range(len(e2s_keys)):\n",
    "        for j in range(len(e2f_keys)):\n",
    "            if e2s_keys[i] == e2f_keys[j]:\n",
    "                s2f[english_to_spanish[e2s_keys[i]]] = english_to_french[e2f_keys[j]]\n",
    "    return s2f\n",
    "\n",
    "\n",
    "# TESTING CODE \n",
    "S2F = spanish_to_french(eng_to_spa, english_to_french)\n",
    "\n",
    "assert(S2F[\"rojo\"] == \"rouge\")\n",
    "assert(S2F[\"morado\"] == \"violet\")\n",
    "\n",
    "print(S2F)\n",
    "print('\\n')\n",
    "print(\"Nice work! Your spanish to french function works correctly!\")"
   ]
  },
  {
   "cell_type": "markdown",
   "metadata": {},
   "source": [
    "### My Solution \n",
    "\n",
    "Make sure you've attempted to solve the problem above before continuing!\n",
    "\n",
    "When I tested my first solution, I ran into an error. Try running my first attempt (below) to see what it was"
   ]
  },
  {
   "cell_type": "code",
   "execution_count": 58,
   "metadata": {},
   "outputs": [
    {
     "ename": "KeyError",
     "evalue": "'brown'",
     "output_type": "error",
     "traceback": [
      "\u001b[0;31m---------------------------------------------------------------------------\u001b[0m",
      "\u001b[0;31mKeyError\u001b[0m                                  Traceback (most recent call last)",
      "\u001b[0;32m<ipython-input-58-37fb66b1d546>\u001b[0m in \u001b[0;36m<module>\u001b[0;34m()\u001b[0m\n\u001b[1;32m      7\u001b[0m     \u001b[0;32mreturn\u001b[0m \u001b[0ms2f\u001b[0m\u001b[0;34m\u001b[0m\u001b[0m\n\u001b[1;32m      8\u001b[0m \u001b[0;34m\u001b[0m\u001b[0m\n\u001b[0;32m----> 9\u001b[0;31m \u001b[0mS2F_1\u001b[0m \u001b[0;34m=\u001b[0m \u001b[0mspanish_to_french_1\u001b[0m\u001b[0;34m(\u001b[0m\u001b[0meng_to_spa\u001b[0m\u001b[0;34m,\u001b[0m \u001b[0menglish_to_french\u001b[0m\u001b[0;34m)\u001b[0m\u001b[0;34m\u001b[0m\u001b[0m\n\u001b[0m",
      "\u001b[0;32m<ipython-input-58-37fb66b1d546>\u001b[0m in \u001b[0;36mspanish_to_french_1\u001b[0;34m(english_to_spanish, english_to_french)\u001b[0m\n\u001b[1;32m      3\u001b[0m     \u001b[0;32mfor\u001b[0m \u001b[0menglish_word\u001b[0m \u001b[0;32min\u001b[0m \u001b[0menglish_to_french\u001b[0m\u001b[0;34m:\u001b[0m\u001b[0;34m\u001b[0m\u001b[0m\n\u001b[1;32m      4\u001b[0m         \u001b[0mfrench_word\u001b[0m \u001b[0;34m=\u001b[0m \u001b[0menglish_to_french\u001b[0m\u001b[0;34m[\u001b[0m\u001b[0menglish_word\u001b[0m\u001b[0;34m]\u001b[0m\u001b[0;34m\u001b[0m\u001b[0m\n\u001b[0;32m----> 5\u001b[0;31m         \u001b[0mspanish_word\u001b[0m \u001b[0;34m=\u001b[0m \u001b[0menglish_to_spanish\u001b[0m\u001b[0;34m[\u001b[0m\u001b[0menglish_word\u001b[0m\u001b[0;34m]\u001b[0m\u001b[0;34m\u001b[0m\u001b[0m\n\u001b[0m\u001b[1;32m      6\u001b[0m         \u001b[0ms2f\u001b[0m\u001b[0;34m[\u001b[0m\u001b[0mspanish_word\u001b[0m\u001b[0;34m]\u001b[0m \u001b[0;34m=\u001b[0m \u001b[0mfrench_word\u001b[0m\u001b[0;34m\u001b[0m\u001b[0m\n\u001b[1;32m      7\u001b[0m     \u001b[0;32mreturn\u001b[0m \u001b[0ms2f\u001b[0m\u001b[0;34m\u001b[0m\u001b[0m\n",
      "\u001b[0;31mKeyError\u001b[0m: 'brown'"
     ]
    }
   ],
   "source": [
    "def spanish_to_french_1(english_to_spanish, english_to_french):\n",
    "    s2f = {}\n",
    "    for english_word in english_to_french:\n",
    "        french_word = english_to_french[english_word]\n",
    "        spanish_word = english_to_spanish[english_word]\n",
    "        s2f[spanish_word] = french_word\n",
    "    return s2f\n",
    "\n",
    "S2F_1 = spanish_to_french_1(eng_to_spa, english_to_french)"
   ]
  },
  {
   "cell_type": "markdown",
   "metadata": {},
   "source": [
    "I keep getting the following message:\n",
    "\n",
    "```python\n",
    "KeyError: 'brown'\n",
    "```\n",
    "\n",
    "That's because \"brown\" isn't in my Spanish to English dictionary!\n",
    "\n",
    "That's okay, I can just do a **membership check** on each key. Compare the code above to the code below."
   ]
  },
  {
   "cell_type": "code",
   "execution_count": 60,
   "metadata": {},
   "outputs": [],
   "source": [
    "def spanish_to_french_2(english_to_spanish, english_to_french):\n",
    "    s2f = {}\n",
    "    for english_word in english_to_french:\n",
    "        if english_word in english_to_spanish:\n",
    "            french_word = english_to_french[english_word]\n",
    "            spanish_word = english_to_spanish[english_word]\n",
    "            s2f[spanish_word] = french_word\n",
    "    return s2f\n",
    "\n",
    "S2F_2 = spanish_to_french_2(eng_to_spa, english_to_french)"
   ]
  },
  {
   "cell_type": "markdown",
   "metadata": {},
   "source": [
    "### A note on the `in` keyword (and \"testing for membership\")\n",
    "\n",
    "Pay attention to the if statement in the code above. When we write\n",
    "\n",
    "```python\n",
    "if X in Y\n",
    "```\n",
    "\n",
    "we are \"testing for membership\". When `Y` is a `dictionary` we are testing to see if `X` is a **key** in that dictionary. If it is, the test returns `True`. Otherwise it returns `False`."
   ]
  },
  {
   "cell_type": "code",
   "execution_count": 61,
   "metadata": {},
   "outputs": [
    {
     "name": "stdout",
     "output_type": "stream",
     "text": [
      "Is 'china' a key in this dictionary?\n",
      "True\n",
      "\n",
      "Is 'paris' a key in this dictionary?\n",
      "False\n"
     ]
    }
   ],
   "source": [
    "capitals = {\n",
    "    \"spain\" : \"madrid\",\n",
    "    \"france\" : \"paris\",\n",
    "    \"china\" : \"beijing\"\n",
    "}\n",
    "\n",
    "print(\"Is 'china' a key in this dictionary?\")\n",
    "print(\"china\" in capitals)\n",
    "print()\n",
    "\n",
    "print(\"Is 'paris' a key in this dictionary?\")\n",
    "print(\"paris\" in capitals)"
   ]
  },
  {
   "cell_type": "markdown",
   "metadata": {},
   "source": [
    "## Dictionary Summary\n",
    "Important things to remember about dictionaries!\n",
    "\n",
    "#### 1. Dictionaries associate `keys` with `values`\n",
    "The following dictionary has 2 keys (`\"abc\"` and `\"def\"`) and 2 values (`123` and `456`)\n",
    "\n",
    "```python\n",
    "d = {\"abc\":123, \"def\":456}\n",
    "```\n",
    "\n",
    "#### 2. Dictionaries are Unordered\n",
    "Two dictionaries are identical if they have the same keys **and** those keys are associated with the same values. Order doesn't matter.\n",
    "\n",
    "```python\n",
    "> d1 = {\"abc\":123, \"def\":456}\n",
    "> d2 = {\"def\":456, \"abc\":123}\n",
    "> d1 == d2\n",
    "True\n",
    "``` \n",
    "\n",
    "#### 3. Dictionaries are \"mutable\"\n",
    "This means they can be modified in various ways\n",
    "\n",
    "##### 3.1 adding new elements\n",
    "\n",
    "```python\n",
    "> d = {}\n",
    "> d['k'] = 'v'\n",
    "> print(d)\n",
    "{'k': 'v'}\n",
    "```\n",
    "\n",
    "##### 3.2 removing elements\n",
    "\n",
    "```python\n",
    "> del d['k']\n",
    "> print(d)\n",
    "{}\n",
    "```\n",
    "\n",
    "##### 3.3 changing elements\n",
    "\n",
    "```python\n",
    "> d['key'] = 'value' # first need to add an element back in\n",
    "> print(d)\n",
    "{'key': 'value'}\n",
    "\n",
    "> d['key'] = 'other value'\n",
    "> print(d)\n",
    "{'key' : 'other value'}\n",
    "```\n",
    "\n",
    "#### 4. Looping through a dictionary\n",
    "When looping through a dictionary, you loop through the **keys** of that dictionary. \n",
    "\n",
    "#### 5. Membership Testing\n",
    "\n",
    "Python's `in` keyword can be used to test if something is a **key** in a dictionary. "
   ]
  }
 ],
 "metadata": {
  "kernelspec": {
   "display_name": "Python 3",
   "language": "python",
   "name": "python3"
  },
  "language_info": {
   "codemirror_mode": {
    "name": "ipython",
    "version": 3
   },
   "file_extension": ".py",
   "mimetype": "text/x-python",
   "name": "python",
   "nbconvert_exporter": "python",
   "pygments_lexer": "ipython3",
   "version": "3.6.3"
  }
 },
 "nbformat": 4,
 "nbformat_minor": 2
}
