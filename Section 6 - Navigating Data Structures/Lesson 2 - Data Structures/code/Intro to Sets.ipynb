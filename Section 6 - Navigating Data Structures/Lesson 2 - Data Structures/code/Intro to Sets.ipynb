{
 "cells": [
  {
   "cell_type": "markdown",
   "metadata": {},
   "source": [
    "# Introduction to Sets\n",
    "\n",
    "A `set` in Python is a collection of **unique** and **immutable** (unchangeable) objects.\n",
    "\n",
    "To get a feel for how a set works, take a look at the following code:"
   ]
  },
  {
   "cell_type": "code",
   "execution_count": 1,
   "metadata": {},
   "outputs": [
    {
     "name": "stdout",
     "output_type": "stream",
     "text": [
      "set()\n"
     ]
    }
   ],
   "source": [
    "# start with an empty set\n",
    "\n",
    "my_set = set()\n",
    "\n",
    "print(my_set)"
   ]
  },
  {
   "cell_type": "code",
   "execution_count": 2,
   "metadata": {},
   "outputs": [
    {
     "name": "stdout",
     "output_type": "stream",
     "text": [
      "{'b', 1, 2, 3, 'a', 'c'}\n"
     ]
    }
   ],
   "source": [
    "# add a few elements\n",
    "\n",
    "my_set.add('a')\n",
    "my_set.add('b')\n",
    "my_set.add('c')\n",
    "my_set.add(1)\n",
    "my_set.add(2)\n",
    "my_set.add(3)\n",
    "\n",
    "print(my_set)"
   ]
  },
  {
   "cell_type": "code",
   "execution_count": 3,
   "metadata": {},
   "outputs": [
    {
     "name": "stdout",
     "output_type": "stream",
     "text": [
      "b\n",
      "1\n",
      "2\n",
      "3\n",
      "a\n",
      "c\n"
     ]
    }
   ],
   "source": [
    "# like a dictionary, a set is UNORDERED. \n",
    "# We can still loop through a set though.\n",
    "\n",
    "for element in my_set:\n",
    "    print(element)"
   ]
  },
  {
   "cell_type": "code",
   "execution_count": 4,
   "metadata": {},
   "outputs": [
    {
     "name": "stdout",
     "output_type": "stream",
     "text": [
      "there are 6 elements in my_set\n"
     ]
    }
   ],
   "source": [
    "# let's see how many elements are in this set...\n",
    "\n",
    "print(\"there are\", len(my_set), \"elements in my_set\")"
   ]
  },
  {
   "cell_type": "code",
   "execution_count": 5,
   "metadata": {},
   "outputs": [
    {
     "name": "stdout",
     "output_type": "stream",
     "text": [
      "there are 6 elements in my_set\n"
     ]
    }
   ],
   "source": [
    "# can we make the set bigger by adding more \"copies\"\n",
    "# of existing elements?\n",
    "\n",
    "my_set.add(\"a\")\n",
    "my_set.add(\"a\")\n",
    "my_set.add(\"a\")\n",
    "my_set.add(\"a\")\n",
    "my_set.add(\"a\")\n",
    "my_set.add(\"a\")\n",
    "my_set.add(\"a\")\n",
    "my_set.add(\"a\")\n",
    "\n",
    "print(\"there are\", len(my_set), \"elements in my_set\")"
   ]
  },
  {
   "cell_type": "code",
   "execution_count": 6,
   "metadata": {},
   "outputs": [
    {
     "name": "stdout",
     "output_type": "stream",
     "text": [
      "{'b', 1, 2, 3, 'a', 'c'}\n"
     ]
    }
   ],
   "source": [
    "# there are still only 6 elements...\n",
    "# \n",
    "# that's because sets only care about UNIQUE elements.\n",
    "# They do not allow for multiple \"copies\"\n",
    "\n",
    "print(my_set)"
   ]
  },
  {
   "cell_type": "code",
   "execution_count": 7,
   "metadata": {},
   "outputs": [
    {
     "name": "stdout",
     "output_type": "stream",
     "text": [
      "there are 5 elements in my_set\n",
      "{'b', 1, 2, 3, 'c'}\n"
     ]
    }
   ],
   "source": [
    "# and they haven't changed. What if we remove \"a\"\n",
    "my_set.remove(\"a\")\n",
    "print(\"there are\", len(my_set), \"elements in my_set\")\n",
    "print(my_set)"
   ]
  },
  {
   "cell_type": "markdown",
   "metadata": {},
   "source": [
    "### The Power of Sets\n",
    "\n",
    "The `set` is inspired by a branch of mathematics called [set theory](https://en.wikipedia.org/wiki/Set_theory).\n",
    "\n",
    "The thing that makes sets so useful is that they allow us to take advantage of \"Venn Diagram logic\". \n",
    "\n",
    "For example, consider two sets. `primes`, which contains the prime numbers less than 10. And `odds` which contains the odd numbers below 10. A good way to think about the relationship between these sets is with a **Venn Diagram**"
   ]
  },
  {
   "cell_type": "markdown",
   "metadata": {},
   "source": [
    "![Venn Diagram](https://d17h27t6h515a5.cloudfront.net/topher/2017/November/5a023c16_sets-1/sets-1.png)\n",
    "\n",
    "In this diagram, the blue area contains odds, the red contains primes, and the overlapping purple region contains numbers which are both odd and prime."
   ]
  },
  {
   "cell_type": "markdown",
   "metadata": {},
   "source": [
    "## Note - Go slow here!\n",
    "\n",
    "The next few cells demonstrate some of the **methods** that sets have. As you read through them try to relate what each of these methods does to the Venn Diagram shown above."
   ]
  },
  {
   "cell_type": "code",
   "execution_count": 32,
   "metadata": {},
   "outputs": [],
   "source": [
    "# Initializing two sets\n",
    "\n",
    "odds   = set([1,3,5,7,9])\n",
    "primes = set([2,3,5,7])"
   ]
  },
  {
   "cell_type": "code",
   "execution_count": 33,
   "metadata": {},
   "outputs": [
    {
     "name": "stdout",
     "output_type": "stream",
     "text": [
      "{3, 5, 7}\n"
     ]
    }
   ],
   "source": [
    "# Demonstration of the \"intersection\" between two sets\n",
    "# The intersection corresponds to the overlapping region\n",
    "# in the Venn Diagram above.\n",
    "\n",
    "odd_AND_prime = odds.intersection(primes)\n",
    "print(odd_AND_prime)"
   ]
  },
  {
   "cell_type": "code",
   "execution_count": 34,
   "metadata": {},
   "outputs": [
    {
     "name": "stdout",
     "output_type": "stream",
     "text": [
      "{1, 2, 3, 5, 7, 9}\n"
     ]
    }
   ],
   "source": [
    "# Demonstration of the \"union\" of two sets. The union\n",
    "# of sets A and B includes ANY element that is in A OR B \n",
    "# or both.\n",
    "\n",
    "odd_OR_prime = odds.union(primes)\n",
    "print(odd_OR_prime)"
   ]
  },
  {
   "cell_type": "code",
   "execution_count": 35,
   "metadata": {},
   "outputs": [
    {
     "name": "stdout",
     "output_type": "stream",
     "text": [
      "{1, 9}\n"
     ]
    }
   ],
   "source": [
    "# Demonstration of the \"set difference\" between two sets.\n",
    "# What do you expect odds-primes to return?\n",
    "\n",
    "odd_not_prime = odds - primes\n",
    "print(odd_not_prime)"
   ]
  },
  {
   "cell_type": "code",
   "execution_count": 36,
   "metadata": {},
   "outputs": [
    {
     "name": "stdout",
     "output_type": "stream",
     "text": [
      "{2}\n"
     ]
    }
   ],
   "source": [
    "# Another demo of \"set difference\"\n",
    "\n",
    "prime_not_odd = primes - odds\n",
    "print(prime_not_odd)"
   ]
  },
  {
   "cell_type": "markdown",
   "metadata": {},
   "source": [
    "### Union vs Intersection\n",
    "\n",
    "The **union** of two sets A and B contains elements that are in A *or* B *or* both. The **intersection** contains elements that are in both.\n",
    "\n",
    "![set union vs intersection](https://d17h27t6h515a5.cloudfront.net/topher/2017/November/5a04a22f_sets-2/sets-2.png)"
   ]
  },
  {
   "cell_type": "markdown",
   "metadata": {},
   "source": [
    "### `A-B` vs `B-A`\n",
    "\n",
    "**`A-B`** contains elements that are in A *but not* in B.\n",
    "**`B-A`** contains elements that are in B *but not* in A.\n",
    "\n",
    "![set_a - set_b](https://d17h27t6h515a5.cloudfront.net/topher/2017/November/5a04a22f_sets-3/sets-3.png)\n",
    "\n",
    "![set_b - set_a](https://d17h27t6h515a5.cloudfront.net/topher/2017/November/5a04a230_sets-4/sets-4.png)"
   ]
  },
  {
   "cell_type": "markdown",
   "metadata": {},
   "source": [
    "## TODO - Exercise: A or B but not both\n",
    "Write a function that takes two sets (`set_a` and `set_b`) as input and returns a new set which contains elements that are either in `set_a` OR `set_b` but **not** in both. \n",
    "\n",
    "In the Venn Diagram above this would include everything in the diagram EXCEPT the overlapping middle area. In this case that would be the numbers 9, 1, and 2\n",
    "\n",
    "NOTE - Try to use all of the following set operations in your answer:\n",
    "\n",
    "* **`intersection`**\n",
    "* **`union`**\n",
    "* **`difference`**"
   ]
  },
  {
   "cell_type": "code",
   "execution_count": 37,
   "metadata": {},
   "outputs": [
    {
     "name": "stdout",
     "output_type": "stream",
     "text": [
      "Nice job! Your function works correctly!\n"
     ]
    }
   ],
   "source": [
    "def a_or_b_but_not_both(set_a, set_b):\n",
    "    \"\"\"Returns a set which contains any element that is \n",
    "    a member of set_a OR a member of set_b but NOT a member\n",
    "    of both.\"\"\"\n",
    "    return set_a.union(set_b) - set_a.intersection(set_b)\n",
    "\n",
    "# testing code\n",
    "assert a_or_b_but_not_both(odds, primes) == set([9,1,2])\n",
    "print(\"Nice job! Your function works correctly!\")"
   ]
  },
  {
   "cell_type": "code",
   "execution_count": 38,
   "metadata": {},
   "outputs": [],
   "source": [
    "#\n",
    "\n",
    "#\n",
    "\n",
    "# Spoiler Alert! Solution Below!\n",
    "\n",
    "#\n",
    "\n",
    "#\n",
    "\n",
    "#\n",
    "\n",
    "#\n",
    "\n",
    "#\n",
    "\n",
    "#\n",
    "\n",
    "#\n",
    "\n",
    "#\n",
    "\n",
    "#\n",
    "\n",
    "#\n"
   ]
  },
  {
   "cell_type": "code",
   "execution_count": 39,
   "metadata": {},
   "outputs": [],
   "source": [
    "# Solution 1\n",
    "def a_or_b_but_not_both(set_a, set_b):\n",
    "    \"\"\"Returns a set which contains any element that is \n",
    "    a member of set_a OR a member of set_b but NOT a member\n",
    "    of both.\"\"\"\n",
    "    a_and_b = set_a.intersection(set_b)\n",
    "    a_or_b = set_a.union(set_b)\n",
    "    return a_or_b - a_and_b\n",
    "\n",
    "assert a_or_b_but_not_both(odds, primes) == set([9,1,2])"
   ]
  },
  {
   "cell_type": "code",
   "execution_count": 40,
   "metadata": {},
   "outputs": [],
   "source": [
    "# Solution 2\n",
    "def a_or_b_but_not_both(set_a, set_b):\n",
    "    \"\"\"Returns a set which contains any element that is \n",
    "    a member of set_a OR a member of set_b but NOT a member\n",
    "    of both.\"\"\"\n",
    "    a_without_b = set_a - set_b\n",
    "    b_without_a = set_b - set_a\n",
    "    return a_without_b.union(b_without_a)\n",
    "\n",
    "assert a_or_b_but_not_both(odds, primes) == set([9,1,2])"
   ]
  },
  {
   "cell_type": "code",
   "execution_count": 41,
   "metadata": {},
   "outputs": [],
   "source": [
    "# Solution 3\n",
    "# \n",
    "# There is actually a REALLY succinct way of writing this \n",
    "# function using a single character. I'm not going to tell\n",
    "# you what that is now, but at the end of this notebook \n",
    "# you'll find a link to Python documentation that will...\n",
    "\n",
    "def a_or_b_but_not_both(A, B):\n",
    "    return A ^ B\n",
    "assert a_or_b_but_not_both(odds, primes) == set([9,1,2])"
   ]
  },
  {
   "cell_type": "markdown",
   "metadata": {},
   "source": [
    "### Great, what about those tickets? And labels?"
   ]
  },
  {
   "cell_type": "code",
   "execution_count": 42,
   "metadata": {},
   "outputs": [
    {
     "name": "stdout",
     "output_type": "stream",
     "text": [
      "Nice job! Your function works correctly!\n"
     ]
    }
   ],
   "source": [
    "def consolidate_labels(t1_labels, t2_labels):\n",
    "    \"\"\"\n",
    "    Combines labels from two tickets without duplication.\n",
    "    \n",
    "    Given t1_labels and t2_labels (both lists), return \n",
    "    a consolidated list of labels without duplicates.\n",
    "    \"\"\"\n",
    "    \n",
    "    # TODO - rewrite this function to use sets. You should\n",
    "    #   be able to replace all the code below with 1 or 2\n",
    "    #   lines if you use sets appropriately.\n",
    "    # \n",
    "    # NOTE - to convert a set back to a list, you can\n",
    "    #   use the list() function (demonstrated in the\n",
    "    #   cell below).\n",
    "    \n",
    "#     combined = []\n",
    "#     for label in t1_labels:\n",
    "#         if label not in combined:\n",
    "#             combined.append(label)\n",
    "#     for label in t2_labels:\n",
    "#         if label not in combined:\n",
    "#             combined.append(label)\n",
    "            \n",
    "    combined = list(set(t1_labels).union(set(t2_labels)))\n",
    "    return combined\n",
    "\n",
    "\n",
    "# testing code\n",
    "labels_1 = [\"python\", \"bug\", \"localization\", \"bug\"]\n",
    "labels_2 = [\"planning\", \"localization\"]\n",
    "\n",
    "combined_labels = consolidate_labels(labels_1, labels_2)\n",
    "\n",
    "assert( set(combined_labels) == set([\"python\", \"bug\", \n",
    "                                     \"localization\", \"planning\"]))\n",
    "print(\"Nice job! Your function works correctly!\")"
   ]
  },
  {
   "cell_type": "code",
   "execution_count": 43,
   "metadata": {},
   "outputs": [
    {
     "name": "stdout",
     "output_type": "stream",
     "text": [
      "odds:         [1, 3, 5, 7, 9]\n",
      "as set:       {1, 3, 5, 7, 9}\n",
      "back to list: [1, 3, 5, 7, 9]\n"
     ]
    }
   ],
   "source": [
    "# demonstration of Python's list() and set() functions\n",
    "\n",
    "odds = [1,3,5,7,9]\n",
    "odds_as_set = set(odds)\n",
    "odds_back_to_list = list(odds_as_set)\n",
    "\n",
    "print(\"odds:        \", odds)\n",
    "print(\"as set:      \", odds_as_set)\n",
    "print(\"back to list:\", odds_back_to_list)"
   ]
  },
  {
   "cell_type": "code",
   "execution_count": 44,
   "metadata": {},
   "outputs": [],
   "source": [
    "#\n",
    "\n",
    "#\n",
    "\n",
    "#\n",
    "\n",
    "# Spoiler alert! solution below!\n",
    "\n",
    "#\n",
    "\n",
    "#\n",
    "\n",
    "#"
   ]
  },
  {
   "cell_type": "code",
   "execution_count": 45,
   "metadata": {},
   "outputs": [],
   "source": [
    "# andy's solution\n",
    "def consolidate_labels(t1_labels, t2_labels):\n",
    "    \"\"\"\n",
    "    Combines labels from two tickets without duplication.\n",
    "    \n",
    "    Given t1_labels and t2_labels (both lists), return \n",
    "    a consolidated list of labels without duplicates.\n",
    "    \"\"\"\n",
    "    return set(t1_labels).union(set(t2_labels))\n",
    "\n",
    "labels_1 = [\"python\", \"bug\", \"localization\", \"bug\"]\n",
    "labels_2 = [\"planning\", \"localization\"]\n",
    "\n",
    "combined_labels = consolidate_labels(labels_1, labels_2)\n",
    "\n",
    "assert( set(combined_labels) == set([\"python\", \"bug\", \n",
    "                                     \"localization\", \"planning\"]))"
   ]
  },
  {
   "cell_type": "markdown",
   "metadata": {},
   "source": [
    "### Additional set notation!\n",
    "\n",
    "Now that you're getting more familiar with a variety of data structures, it's important to learn how to work with the documentation that describes these data structures.\n",
    "\n",
    "Check out the [Python documentation on sets](https://docs.python.org/3/tutorial/datastructures.html#sets) and see if you can find an operator that solves the \"a_or_b_but_not_both\" problem from earlier..."
   ]
  }
 ],
 "metadata": {
  "kernelspec": {
   "display_name": "Python 3",
   "language": "python",
   "name": "python3"
  },
  "language_info": {
   "codemirror_mode": {
    "name": "ipython",
    "version": 3
   },
   "file_extension": ".py",
   "mimetype": "text/x-python",
   "name": "python",
   "nbconvert_exporter": "python",
   "pygments_lexer": "ipython3",
   "version": "3.6.3"
  }
 },
 "nbformat": 4,
 "nbformat_minor": 2
}
