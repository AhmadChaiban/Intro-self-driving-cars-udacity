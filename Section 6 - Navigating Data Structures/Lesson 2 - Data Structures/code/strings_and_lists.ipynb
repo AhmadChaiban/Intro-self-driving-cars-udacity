{
 "cells": [
  {
   "cell_type": "markdown",
   "metadata": {},
   "source": [
    "# The problems with strings and lists...\n",
    "In this notebook you will run into some problems when we try to represent tickets first with strings and then with lists. \n",
    "\n",
    "## What data do we need to track?\n",
    "For now a single `ticket` needs to have three pieces of data associated with it:\n",
    "\n",
    "* A date. For example `\"2018-12-31\"`.\n",
    "\n",
    "* A priority. Either `\"high\"`, `\"medium\"`, or `\"low\"`.\n",
    "\n",
    "* A description.\n",
    "\n",
    "### Attempt 1 - Represent a ticket as a string"
   ]
  },
  {
   "cell_type": "code",
   "execution_count": 1,
   "metadata": {},
   "outputs": [],
   "source": [
    "# Option 1 - represent a ticket as a string where each \n",
    "# field is separated by a newline \\n character.\n",
    "def create_ticket(date, priority, description):\n",
    "    ticket = date + \"\\n\"\n",
    "    ticket = ticket + priority + \"\\n\"\n",
    "    ticket = ticket + description + \"\\n\"\n",
    "    return ticket"
   ]
  },
  {
   "cell_type": "code",
   "execution_count": 2,
   "metadata": {},
   "outputs": [],
   "source": [
    "ticket_1 = create_ticket(\"2018-12-31\", \"low\", \"example description\")"
   ]
  },
  {
   "cell_type": "code",
   "execution_count": 3,
   "metadata": {},
   "outputs": [
    {
     "name": "stdout",
     "output_type": "stream",
     "text": [
      "2018-12-31\n",
      "low\n",
      "example description\n",
      "\n"
     ]
    }
   ],
   "source": [
    "print(ticket_1)"
   ]
  },
  {
   "cell_type": "code",
   "execution_count": 4,
   "metadata": {},
   "outputs": [],
   "source": [
    "# let's see how easy it is to do a common task using this\n",
    "# string representation of a ticket. The following function\n",
    "# retrieves a \"description\" from a ticket.\n",
    "def get_description(ticket):\n",
    "    \n",
    "    # 1. separate string into individual lines\n",
    "    lines = ticket.splitlines()\n",
    "    \n",
    "    # 2. get the last line (which has the description)\n",
    "    description = lines[-1]\n",
    "    \n",
    "    return description"
   ]
  },
  {
   "cell_type": "code",
   "execution_count": 5,
   "metadata": {},
   "outputs": [
    {
     "name": "stdout",
     "output_type": "stream",
     "text": [
      "example description\n"
     ]
    }
   ],
   "source": [
    "description_1 = get_description(ticket_1)\n",
    "print(description_1)"
   ]
  },
  {
   "cell_type": "markdown",
   "metadata": {},
   "source": [
    "### It seems to work... right?\n",
    "So far, it seems like strings work just fine. But it doesn't take much of an \"edge case\" to break this system..."
   ]
  },
  {
   "cell_type": "code",
   "execution_count": 8,
   "metadata": {},
   "outputs": [
    {
     "name": "stdout",
     "output_type": "stream",
     "text": [
      "2018-12-29\n",
      "high\n",
      "Vehicle did not slow down when \n",
      "SLOW\n",
      "SCHOOL\n",
      "ZONE\n",
      "was written on road.\n",
      "\n"
     ]
    }
   ],
   "source": [
    "date = \"2018-12-29\"\n",
    "priority = \"high\"\n",
    "description = \"\"\"Vehicle did not slow down when \n",
    "SLOW\n",
    "SCHOOL\n",
    "ZONE\n",
    "was written on road.\"\"\"\n",
    "\n",
    "ticket_2 = create_ticket(date, priority, description)\n",
    "print(ticket_2)"
   ]
  },
  {
   "cell_type": "code",
   "execution_count": 9,
   "metadata": {},
   "outputs": [
    {
     "name": "stdout",
     "output_type": "stream",
     "text": [
      "was written on road.\n"
     ]
    }
   ],
   "source": [
    "# what do you think will happen when we try to retrieve a\n",
    "# description from this ticket using our get_description function?\n",
    "description_2 = get_description(ticket_2)\n",
    "print(description_2)"
   ]
  },
  {
   "cell_type": "markdown",
   "metadata": {},
   "source": [
    "### Let's fix it! Right?\n",
    "\n",
    "Sure... you could fix this particular problem with a clever `get_description` function. But this would require more code, it would be harder to read and it wouldn't address the root problem here:\n",
    "\n",
    "> **A string is not the right data structure to represent a ticket**. Even though a ticket is just a bunch of text, that text has *structure* and representing a ticket with a string ignores that structure.\n",
    "\n",
    "---------\n",
    "\n",
    "## Attempt 2 - Represent a ticket as a list\n",
    "The code below is significantly more concise than the code for a string-representation of a ticket. It's also more robust to certain problems."
   ]
  },
  {
   "cell_type": "code",
   "execution_count": 10,
   "metadata": {},
   "outputs": [],
   "source": [
    "# Option 2 - Use a list to represent a ticket\n",
    "def create_ticket(date, priority, description):\n",
    "    return [date, priority, description]\n",
    "\n",
    "def get_description(ticket):\n",
    "    return ticket[-1]\n",
    "\n",
    "date = \"2018-12-29\"\n",
    "priority = \"high\"\n",
    "description = \"\"\"Vehicle did not slow down when \n",
    "SLOW\n",
    "SCHOOL\n",
    "ZONE\n",
    "was written on road.\"\"\"\n",
    "\n",
    "ticket_2 = create_ticket(date, priority, description)"
   ]
  },
  {
   "cell_type": "code",
   "execution_count": 12,
   "metadata": {},
   "outputs": [
    {
     "name": "stdout",
     "output_type": "stream",
     "text": [
      "Vehicle did not slow down when \n",
      "SLOW\n",
      "SCHOOL\n",
      "ZONE\n",
      "was written on road.\n"
     ]
    }
   ],
   "source": [
    "# what do you think will happen when we try to retrieve a\n",
    "# description from this ticket using our NEW get_description function?\n",
    "description_2 = get_description(ticket_2)\n",
    "print(description_2)"
   ]
  },
  {
   "cell_type": "markdown",
   "metadata": {},
   "source": [
    "### So what's the problem?\n",
    "This list is **not** a bad choice when a ticket just has these three fields. But for readability reasons wouldn't it be nice if we could write code like this:\n",
    "\n",
    "```python\n",
    "priority =    ticket['priority']\n",
    "date =        ticket['date']\n",
    "description = ticket['description']\n",
    "```\n",
    "\n",
    "instead of code like this:\n",
    "\n",
    "```python\n",
    "priority =    ticket[1]\n",
    "date =        ticket[0]\n",
    "description = ticket[2]\n",
    "```\n",
    "\n",
    "there are other reasons why lists aren't optimal (which you will explore later), but let's focus on the readability improvements for now.\n",
    "\n",
    "In the next section you'll learn more about the python `dictionary`. Here's a peek at how they work:"
   ]
  },
  {
   "cell_type": "code",
   "execution_count": 13,
   "metadata": {},
   "outputs": [],
   "source": [
    "dictionary_ticket = {\"date\" : \"2018-12-28\",\n",
    "                     \"priority\" : \"low\",\n",
    "                     \"description\" : \"car drove too slow\"}"
   ]
  },
  {
   "cell_type": "code",
   "execution_count": 14,
   "metadata": {},
   "outputs": [
    {
     "name": "stdout",
     "output_type": "stream",
     "text": [
      "car drove too slow\n"
     ]
    }
   ],
   "source": [
    "print(dictionary_ticket['description'])"
   ]
  },
  {
   "cell_type": "code",
   "execution_count": null,
   "metadata": {},
   "outputs": [],
   "source": []
  }
 ],
 "metadata": {
  "kernelspec": {
   "display_name": "Python 3",
   "language": "python",
   "name": "python3"
  },
  "language_info": {
   "codemirror_mode": {
    "name": "ipython",
    "version": 3
   },
   "file_extension": ".py",
   "mimetype": "text/x-python",
   "name": "python",
   "nbconvert_exporter": "python",
   "pygments_lexer": "ipython3",
   "version": "3.6.3"
  }
 },
 "nbformat": 4,
 "nbformat_minor": 2
}
