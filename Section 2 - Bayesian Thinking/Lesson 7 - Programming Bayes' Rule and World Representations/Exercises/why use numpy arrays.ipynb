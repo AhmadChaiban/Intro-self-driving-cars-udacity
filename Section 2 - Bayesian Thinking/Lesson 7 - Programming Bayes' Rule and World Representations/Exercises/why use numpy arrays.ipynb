{
 "cells": [
  {
   "cell_type": "markdown",
   "metadata": {},
   "source": [
    "# Why use numpy arrays?\n",
    "Numpy is one of those tools that will keep showing up as you learn about self driving cars. This is because numpy arrays tend to be:\n",
    "\n",
    "1. **compact** (they don't take up as much space in memory as a Python list).\n",
    "\n",
    "2. **efficient** (computations usually run quicker on numpy arrays then Python lists).\n",
    "\n",
    "3. **convenient** (which we'll talk about more now)."
   ]
  },
  {
   "cell_type": "code",
   "execution_count": 1,
   "metadata": {},
   "outputs": [
    {
     "name": "stdout",
     "output_type": "stream",
     "text": [
      "[0, 1, 5]\n"
     ]
    }
   ],
   "source": [
    "# consider this 2d python grid (list of lists)\n",
    "grid = [\n",
    "    [0, 1, 5],\n",
    "    [1, 2, 6],\n",
    "    [2, 3, 7],\n",
    "    [3, 4, 8]\n",
    "]\n",
    "\n",
    "# It's easy to print, for example, row number 0:\n",
    "print(grid[0])"
   ]
  },
  {
   "cell_type": "code",
   "execution_count": 2,
   "metadata": {},
   "outputs": [
    {
     "name": "stdout",
     "output_type": "stream",
     "text": [
      "[0 1 2 3]\n"
     ]
    }
   ],
   "source": [
    "# but how would you print COLUMN 0? In numpy, this is easy\n",
    "\n",
    "import numpy as np\n",
    "\n",
    "np_grid = np.array([\n",
    "    [0, 1, 5],\n",
    "    [1, 2, 6],\n",
    "    [2, 3, 7],\n",
    "    [3, 4, 8]\n",
    "])\n",
    "\n",
    "# The ':' usually means \"*all values*\n",
    "print(np_grid[:,0])"
   ]
  },
  {
   "cell_type": "code",
   "execution_count": 3,
   "metadata": {},
   "outputs": [
    {
     "name": "stdout",
     "output_type": "stream",
     "text": [
      "[[0 1 5 1 2 6 2 3 7 3 4 8]]\n"
     ]
    }
   ],
   "source": [
    "# What if you wanted to change the shape of the array?\n",
    "\n",
    "# For example, we can turn the 2D grid from above into a 1D array\n",
    "# Here, the -1 means automatically fit all values into this 1D shape\n",
    "np_1D = np.reshape(np_grid, (1, -1))\n",
    "\n",
    "print(np_1D)"
   ]
  },
  {
   "cell_type": "code",
   "execution_count": 4,
   "metadata": {},
   "outputs": [
    {
     "name": "stdout",
     "output_type": "stream",
     "text": [
      "[[ 0.  0.  0.  0.]\n",
      " [ 0.  0.  0.  0.]\n",
      " [ 0.  0.  0.  0.]\n",
      " [ 0.  0.  0.  0.]\n",
      " [ 0.  0.  0.  0.]]\n"
     ]
    }
   ],
   "source": [
    "# We can also create a 2D array of zeros or ones\n",
    "# which is useful for car world creation and analysis\n",
    "\n",
    "# Create a 5x4 array\n",
    "zero_grid = np.zeros((5, 4))\n",
    "\n",
    "print(zero_grid)"
   ]
  }
 ],
 "metadata": {
  "kernelspec": {
   "display_name": "Python 3",
   "language": "python",
   "name": "python3"
  },
  "language_info": {
   "codemirror_mode": {
    "name": "ipython",
    "version": 3
   },
   "file_extension": ".py",
   "mimetype": "text/x-python",
   "name": "python",
   "nbconvert_exporter": "python",
   "pygments_lexer": "ipython3",
   "version": "3.6.3"
  }
 },
 "nbformat": 4,
 "nbformat_minor": 2
}
