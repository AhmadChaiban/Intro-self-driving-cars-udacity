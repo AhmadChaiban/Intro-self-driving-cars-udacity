{
 "cells": [
  {
   "cell_type": "markdown",
   "metadata": {},
   "source": [
    "# For Loops [demonstration]\n",
    "The code below demonstrates two ways of looping through the numbers 0,1,2,3,4,5"
   ]
  },
  {
   "cell_type": "code",
   "execution_count": null,
   "metadata": {
    "collapsed": true
   },
   "outputs": [],
   "source": [
    "print(\"1 - demonstrating for loop\")\n",
    "# Python allows you loop over a list\n",
    "for i in [0,1,2,3,4,5]:\n",
    "    print(i)"
   ]
  },
  {
   "cell_type": "code",
   "execution_count": null,
   "metadata": {
    "collapsed": true
   },
   "outputs": [],
   "source": [
    "print(\"2 - demonstrating for loop with range()\")\n",
    "# If you want to loop until a specified number, use range(number)\n",
    "for i in range(6):\n",
    "    print(i)"
   ]
  },
  {
   "cell_type": "markdown",
   "metadata": {},
   "source": [
    "### The `range` function\n",
    "The `range` function is one you'll probably use a lot - often in conjunction with a for loop. The code below shows how you can use the range function to print out a multiplication table.\n",
    "\n",
    "Read through the code below. What is the biggest number you expect to see printed? "
   ]
  },
  {
   "cell_type": "code",
   "execution_count": null,
   "metadata": {},
   "outputs": [],
   "source": [
    "# This is an example of a nested loop\n",
    "# Nested loops are loops inside of loops\n",
    "# the left_num will increment slower than the right_num\n",
    "# How many times will right_num perform full loops?\n",
    "for left_num in range(5):\n",
    "    for right_num in range(5):\n",
    "        product = left_num * right_num\n",
    "        print(left_num, \"x\", right_num, \"=\", product)"
   ]
  }
 ],
 "metadata": {
  "kernelspec": {
   "display_name": "Python 3",
   "language": "python",
   "name": "python3"
  },
  "language_info": {
   "codemirror_mode": {
    "name": "ipython",
    "version": 3
   },
   "file_extension": ".py",
   "mimetype": "text/x-python",
   "name": "python",
   "nbconvert_exporter": "python",
   "pygments_lexer": "ipython3",
   "version": "3.6.3"
  }
 },
 "nbformat": 4,
 "nbformat_minor": 2
}
