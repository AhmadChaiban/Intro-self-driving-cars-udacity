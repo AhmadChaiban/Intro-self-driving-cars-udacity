{
 "cells": [
  {
   "cell_type": "markdown",
   "metadata": {},
   "source": [
    "## Instructions\n",
    "1. Read through the code below and come up with a prediction for what will happen when you run it.\n",
    "\n",
    "2. Run the code by selecting the cell below and pressing `Ctrl + Enter` (or `Shift + Enter`).\n",
    "\n",
    "3. Modify the line that says `p_heads = 0.75` so that `p_heads` has a different value (0.1 for example). What do you think will change when you run the code?\n",
    "\n",
    "4. Run the code and compare the output to what you expected."
   ]
  },
  {
   "cell_type": "code",
   "execution_count": 1,
   "metadata": {},
   "outputs": [
    {
     "name": "stdout",
     "output_type": "stream",
     "text": [
      "The probability of heads is 0.75\n",
      "The probability of tails is 0.25\n"
     ]
    }
   ],
   "source": [
    "# Here we assign a value of 0.5 to the variable named p_heads\n",
    "# and then use a print statement.\n",
    "p_heads = 0.75\n",
    "print(\"The probability of heads is\", p_heads)\n",
    "\n",
    "# Here we assign a value to p_tails. This is done by taking the \n",
    "# compli\n",
    "p_tails = 1.0 - p_heads\n",
    "print(\"The probability of tails is\", p_tails)"
   ]
  },
  {
   "cell_type": "code",
   "execution_count": null,
   "metadata": {},
   "outputs": [],
   "source": []
  }
 ],
 "metadata": {
  "kernelspec": {
   "display_name": "Python 3",
   "language": "python",
   "name": "python3"
  },
  "language_info": {
   "codemirror_mode": {
    "name": "ipython",
    "version": 3
   },
   "file_extension": ".py",
   "mimetype": "text/x-python",
   "name": "python",
   "nbconvert_exporter": "python",
   "pygments_lexer": "ipython3",
   "version": "3.6.3"
  }
 },
 "nbformat": 4,
 "nbformat_minor": 2
}
