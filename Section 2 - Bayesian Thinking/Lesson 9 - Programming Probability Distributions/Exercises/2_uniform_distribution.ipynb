{
 "cells": [
  {
   "cell_type": "markdown",
   "metadata": {},
   "source": [
    "# Uniform Probability Distribution\n",
    "\n",
    "### Your Task\n",
    "\n",
    "Let's get started! In this exercise, you'll write a function for calculating continuous uniform probability distributions.\n",
    "\n",
    "### Continuous Uniform Distribution\n",
    "\n",
    "From the lesson videos, the wheel of fortune and spinning bottle examples both had continuous uniform distributions. You spin, and the arrow or bottle had an equal chance of stopping anywhere between 0 and 360 degrees. \n",
    "\n",
    "### Instructions\n",
    "For this first programming exercise, write a function that calculates the probability that the arrow will stop between two angles. You'll want this function to work with any continuous uniform distribution not just a wheel or bottle. \n",
    "\n",
    "As an example: the probability that the bottle stops between 20 and 30 degrees is P = (30 - 20) / (360 - 0).\n",
    "\n",
    "The function has four inputs:\n",
    "* `low_range` representing the first angle of interest\n",
    "* `high_range` representing the second angle\n",
    "* `minimum` representing the minimum value of the distribution (0 for the spinning example)\n",
    "* `maximum` representing the maximum value of the distribution (360 for the spinning example)\n",
    "\n",
    "The output should be the probability that the arrow stops between low_range and high_range.\n",
    "\n",
    "Assume low_range < high_range."
   ]
  },
  {
   "cell_type": "code",
   "execution_count": 7,
   "metadata": {},
   "outputs": [],
   "source": [
    "def probability_uniform(low_range, high_range, minimum, maximum):\n",
    "    \n",
    "    ## TODO: Calculate the probability of an event occurring \n",
    "    ## between low_range and high_range.\n",
    "    ## Assume the user has given valid inputs such that low_range < high_range.\n",
    "    ##   minimum < maximum\n",
    "    ##\n",
    "\n",
    "    probability = abs((high_range - low_range)/(maximum-minimum))\n",
    "    return probability"
   ]
  },
  {
   "cell_type": "markdown",
   "metadata": {},
   "source": [
    "# Test Your Results\n",
    "\n",
    "Run the code cell below to test your results. If you get an assertion error, that means your answer was not what we expected."
   ]
  },
  {
   "cell_type": "code",
   "execution_count": 8,
   "metadata": {},
   "outputs": [
    {
     "name": "stdout",
     "output_type": "stream",
     "text": [
      "Great work! Your code outputs the expected results.\n"
     ]
    }
   ],
   "source": [
    "## TODO: Test your results by running this cell.\n",
    "## If the cell produces no output, your answer was as expected\n",
    "\n",
    "assert \"{0:.2f}\".format(probability_uniform(15, 305, 0, 360)) == '0.81'\n",
    "assert \"{0:.2f}\".format(probability_uniform(1, 5, 0, 10)) == '0.40'\n",
    "assert \"{0:.2f}\".format(probability_uniform(55, 70, 20, 300)) == '0.05'\n",
    "print('Great work! Your code outputs the expected results.')"
   ]
  },
  {
   "cell_type": "code",
   "execution_count": null,
   "metadata": {},
   "outputs": [],
   "source": []
  }
 ],
 "metadata": {
  "kernelspec": {
   "display_name": "Python 3",
   "language": "python",
   "name": "python3"
  },
  "language_info": {
   "codemirror_mode": {
    "name": "ipython",
    "version": 3
   },
   "file_extension": ".py",
   "mimetype": "text/x-python",
   "name": "python",
   "nbconvert_exporter": "python",
   "pygments_lexer": "ipython3",
   "version": "3.6.3"
  }
 },
 "nbformat": 4,
 "nbformat_minor": 2
}
