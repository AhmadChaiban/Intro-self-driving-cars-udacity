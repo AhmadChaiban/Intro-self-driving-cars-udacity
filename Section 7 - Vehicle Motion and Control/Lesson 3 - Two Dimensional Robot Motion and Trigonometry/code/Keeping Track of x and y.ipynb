{
 "cells": [
  {
   "cell_type": "markdown",
   "metadata": {},
   "source": [
    "# Keeping Track of Vehicle x and y\n",
    "\n",
    "Now that you know how to solve trigonometry problems, you can keep track of a vehicle's $x$ and $y$ coordinates as it moves in any direction. \n",
    "\n",
    "The goal of this lesson is for you to implement a few methods in a `Vehicle` class. Once complete, your code will be used like this:\n",
    "\n",
    "```python\n",
    "# instantiate vehicle\n",
    "v = Vehicle()\n",
    "\n",
    "# drive forward 10 meters\n",
    "v.drive_forward(10)\n",
    "\n",
    "# turn left in 10 increments of 9 degrees each.\n",
    "for _ in range(10):\n",
    "    v.turn(9.0)\n",
    "    v.drive_forward(1)\n",
    "\n",
    "v.drive_forward(10)\n",
    "\n",
    "v.show_trajectory()\n",
    "```\n",
    "\n",
    "and this final call to `show_trajectory` should produce a graph that looks like this:\n",
    "\n",
    "![](https://d17h27t6h515a5.cloudfront.net/topher/2017/December/5a3184b7_xy-traj/xy-traj.png)"
   ]
  },
  {
   "cell_type": "markdown",
   "metadata": {},
   "source": [
    "If, instead of calling \n",
    "\n",
    "```python\n",
    "v.show_trajectory()\n",
    "```\n",
    "\n",
    "we had written:\n",
    "\n",
    "```python\n",
    "print(v.history)\n",
    "```\n",
    "\n",
    "we would have seen a list of `(x,y)` tuples representing the vehicle's history that looks like this:\n",
    "\n",
    "```python\n",
    "[(0.0, 0.0),\n",
    " (10.0, 0.0),\n",
    " (10.988, 0.156),\n",
    " (11.939, 0.465),\n",
    " (12.830, 0.919),\n",
    " (13.639, 1.507),\n",
    " (14.346, 2.214),\n",
    " (14.934, 3.023),\n",
    " (15.388, 3.914),\n",
    " (15.697, 4.865),\n",
    " (15.853, 5.853),\n",
    " (15.853, 6.853)]\n",
    "```\n",
    "\n",
    "Note that it's this `history` data that is used to plot the points in `show_trajectory`."
   ]
  },
  {
   "cell_type": "code",
   "execution_count": 80,
   "metadata": {},
   "outputs": [
    {
     "data": {
      "text/plain": [
       "1.3227340404313588"
      ]
     },
     "execution_count": 80,
     "metadata": {},
     "output_type": "execute_result"
    }
   ],
   "source": [
    "(np.random.rand(1,1)*2)[0][0]"
   ]
  },
  {
   "cell_type": "code",
   "execution_count": 247,
   "metadata": {},
   "outputs": [],
   "source": [
    "import numpy as np\n",
    "from math import sin, cos, pi\n",
    "from matplotlib import pyplot as plt\n",
    "\n",
    "# TODO - Complete the methods in the vehicle class. If the \n",
    "#        requirements of any method are unclear, look at \n",
    "#        the testing code in testing.py (you'll need to\n",
    "#        click on the \"Jupyter\" logo in the top left and\n",
    "#        then open testing.py)\n",
    "#\n",
    "#        If you really get stuck, take a look at the \n",
    "#        solution code in the next segment.\n",
    "\n",
    "class Vehicle:\n",
    "    def __init__(self):\n",
    "        self.x       = 0.0 # meters\n",
    "        self.y       = 0.0\n",
    "        self.heading = 0.0 # radians\n",
    "        self.history = [[self.x, self.y]]\n",
    "        \n",
    "    def drive_forward(self, displacement):\n",
    "        \"\"\"\n",
    "        Updates x and y coordinates of vehicle based on \n",
    "        heading and appends previous (x,y) position to\n",
    "        history.\n",
    "        \"\"\"\n",
    "        \n",
    "        self.x = self.x + cos(self.heading)*displacement\n",
    "        self.y = self.y + sin(self.heading)*displacement\n",
    "        \n",
    "        self.history.append([self.x, self.y])\n",
    "            \n",
    "    def set_heading(self, heading_in_degrees):\n",
    "        \"\"\"\n",
    "        Sets the current heading (in radians) to a new value\n",
    "        based on heading_in_degrees. Vehicle heading is always\n",
    "        between 0 and 2 * pi.\n",
    "        \"\"\"\n",
    "        self.heading = heading_in_degrees*pi/180\n",
    "        \n",
    "    def turn(self, angle_in_degrees):\n",
    "        \"\"\"\n",
    "        Changes the vehicle's heading by angle_in_degrees. Vehicle \n",
    "        heading is always between 0 and 2 * pi.\n",
    "        \"\"\"\n",
    "        heading_in_degrees = self.heading*180/pi + angle_in_degrees\n",
    "        if heading_in_degrees > 360:\n",
    "            heading_in_degrees = heading_in_degrees - 360\n",
    "        self.set_heading(heading_in_degrees)\n",
    "    \n",
    "    def show_trajectory(self):\n",
    "        \"\"\"\n",
    "        Creates a scatter plot of vehicle's trajectory.\n",
    "        \"\"\"\n",
    "        x = [point[0] for point in self.history]\n",
    "        y = [point[1] for point in self.history]\n",
    "\n",
    "        plt.scatter(x=x, y=y)\n",
    "        plt.plot(x,y)\n",
    "        plt.xlim(-6, 20)\n",
    "        plt.xlabel(\"X position\")\n",
    "        plt.ylabel(\"Y position\")\n",
    "        plt.title(\"Vehicle (x, y) Trajectory\")\n",
    "        plt.show()"
   ]
  },
  {
   "cell_type": "code",
   "execution_count": 248,
   "metadata": {},
   "outputs": [
    {
     "name": "stdout",
     "output_type": "stream",
     "text": [
      "Your set_heading function looks good!\n",
      "Congratulations! Your vehicle's drive_forward method works\n"
     ]
    }
   ],
   "source": [
    "# Use this testing code to check your code for correctness.\n",
    "from testing import test_drive_forward, test_set_heading\n",
    "\n",
    "test_set_heading(Vehicle)\n",
    "test_drive_forward(Vehicle)"
   ]
  },
  {
   "cell_type": "code",
   "execution_count": 249,
   "metadata": {},
   "outputs": [
    {
     "data": {
      "image/png": "[encoded data removed]",
      "text/plain": [
       "<matplotlib.figure.Figure at 0x7f30d6ad2f28>"
      ]
     },
     "metadata": {
      "needs_background": "light"
     },
     "output_type": "display_data"
    }
   ],
   "source": [
    "# You'll have to \"test\" your show_trajectory method \n",
    "# visually. Run the code below and see if the plot that's\n",
    "# produced looks similar to the plot at the bottom of \n",
    "# this notebook.\n",
    "\n",
    "# instantiate vehicle\n",
    "v = Vehicle()\n",
    "\n",
    "# drive forward 10 meters\n",
    "v.drive_forward(10)\n",
    "\n",
    "# turn left in 10 increments of 9 degrees each.\n",
    "for _ in range(10):\n",
    "    v.turn(9.0)\n",
    "    v.drive_forward(1)\n",
    "\n",
    "v.drive_forward(10)\n",
    "\n",
    "v.show_trajectory()"
   ]
  },
  {
   "cell_type": "markdown",
   "metadata": {},
   "source": [
    "Reference plot from solution code \n",
    "![](https://d17h27t6h515a5.cloudfront.net/topher/2017/December/5a3184b7_xy-traj/xy-traj.png)"
   ]
  }
 ],
 "metadata": {
  "kernelspec": {
   "display_name": "Python 3",
   "language": "python",
   "name": "python3"
  },
  "language_info": {
   "codemirror_mode": {
    "name": "ipython",
    "version": 3
   },
   "file_extension": ".py",
   "mimetype": "text/x-python",
   "name": "python",
   "nbconvert_exporter": "python",
   "pygments_lexer": "ipython3",
   "version": "3.6.3"
  }
 },
 "nbformat": 4,
 "nbformat_minor": 2
}
